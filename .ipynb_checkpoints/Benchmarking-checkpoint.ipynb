{
 "cells": [
  {
   "cell_type": "code",
   "execution_count": 1,
   "metadata": {
    "scrolled": false
   },
   "outputs": [],
   "source": [
    "#!pip3 install pandas\n",
    "#!pip3 install xgboost\n",
    "#!pip3 install sklearn\n",
    "#!pip3 install six==1.10\n",
    "#!pip3 install matplotlib\n",
    "#!pip3 install statsmodels\n",
    "#!pip3 install keras==2.2\n",
    "#!pip3 install tensorflow\n",
    "#!pip3 install np_utils\n",
    "#!pip3 install opencv-python\n",
    "#!pip3 install optunity\n",
    "#!pip3 install pydot-ng\n",
    "#!pip3 install pydot\n",
    "#!pip3 install tensorboard\n",
    "#!pip3 uninstall pyparsing -f -y\n",
    "#!pip3 install --ignore-installed -U ipython\n",
    "#!pip3 install pyparsing\n",
    "#!pip3 install graphviz\n",
    "#!pip3 install --ignore-installed pydot>=1.2.4"
   ]
  },
  {
   "cell_type": "code",
   "execution_count": 2,
   "metadata": {},
   "outputs": [
    {
     "name": "stderr",
     "output_type": "stream",
     "text": [
      "/usr/local/lib/python3.4/dist-packages/sklearn/cross_validation.py:41: DeprecationWarning: This module was deprecated in version 0.18 in favor of the model_selection module into which all the refactored classes and functions are moved. Also note that the interface of the new CV iterators are different from that of this module. This module will be removed in 0.20.\n",
      "  \"This module will be removed in 0.20.\", DeprecationWarning)\n",
      "/usr/local/lib/python3.4/dist-packages/sklearn/grid_search.py:42: DeprecationWarning: This module was deprecated in version 0.18 in favor of the model_selection module into which all the refactored classes and functions are moved. This module will be removed in 0.20.\n",
      "  DeprecationWarning)\n",
      "Using TensorFlow backend.\n"
     ]
    }
   ],
   "source": [
    "\n",
    "import warnings\n",
    "warnings.filterwarnings('ignore')\n",
    "\n",
    "import pandas as pd\n",
    "import numpy as np\n",
    "import xgboost as xgb\n",
    "import math\n",
    "import random\n",
    "import pydot\n",
    "\n",
    "from xgboost.sklearn import XGBClassifier\n",
    "from xgboost.sklearn import XGBRegressor\n",
    "from xgboost import plot_tree\n",
    "\n",
    "#from graphviz import Digraph\n",
    "\n",
    "from sklearn import cross_validation, metrics\n",
    "from sklearn import preprocessing\n",
    "from sklearn.grid_search import GridSearchCV\n",
    "from sklearn.metrics import mean_squared_error\n",
    "from sklearn.metrics import r2_score\n",
    "from sklearn.manifold import TSNE\n",
    "from sklearn.model_selection import train_test_split\n",
    "from sklearn.model_selection import cross_val_score\n",
    "from sklearn.model_selection import StratifiedKFold\n",
    "from sklearn.svm import SVR\n",
    "from sklearn.neural_network import MLPRegressor\n",
    "from sklearn.decomposition import PCA\n",
    "from sklearn.ensemble import RandomForestRegressor\n",
    "from sklearn.preprocessing import StandardScaler\n",
    "from sklearn.feature_selection import f_regression, mutual_info_regression\n",
    "\n",
    "import statsmodels.api as sm\n",
    "import cv2\n",
    "import h5py\n",
    "\n",
    "from math import sqrt\n",
    "from scipy.integrate import simps\n",
    "from scipy.stats import f\n",
    "\n",
    "import optunity\n",
    "import optunity.metrics\n",
    "\n",
    "%matplotlib inline\n",
    "import numpy as np\n",
    "import matplotlib\n",
    "import matplotlib.pyplot as plt\n",
    "import matplotlib.patches as mpatches\n",
    "\n",
    "from keras.models import Sequential\n",
    "from keras.layers import Dense\n",
    "from keras.layers import Dropout\n",
    "from keras.layers import GaussianNoise\n",
    "from keras.utils import plot_model\n",
    "from keras.callbacks import TensorBoard\n",
    "from keras.utils import vis_utils as vizu\n",
    "from keras import callbacks\n",
    "from keras import backend\n",
    "from keras.wrappers.scikit_learn import KerasRegressor\n",
    "from sklearn.model_selection import cross_val_score\n",
    "from sklearn.model_selection import KFold"
   ]
  },
  {
   "cell_type": "code",
   "execution_count": 3,
   "metadata": {},
   "outputs": [],
   "source": [
    "pca_flag = False\n",
    "noise_flag = False"
   ]
  },
  {
   "cell_type": "markdown",
   "metadata": {},
   "source": [
    "# Load Data"
   ]
  },
  {
   "cell_type": "code",
   "execution_count": 4,
   "metadata": {},
   "outputs": [],
   "source": [
    "kyoto_1_score = pd.read_csv('dataset/data1_score.csv')\n"
   ]
  },
  {
   "cell_type": "code",
   "execution_count": 5,
   "metadata": {
    "scrolled": true
   },
   "outputs": [],
   "source": [
    "kyoto_1_all = pd.read_csv('dataset/dataset1_15features.csv')\n",
    "\n",
    "kyoto_1_all.rename(index=str, columns={\"Userid\": \"userid\"}, inplace=True)\n",
    "kyoto_1_all = kyoto_1_all.drop(['Score'], axis=1)"
   ]
  },
  {
   "cell_type": "code",
   "execution_count": 6,
   "metadata": {},
   "outputs": [
    {
     "data": {
      "text/plain": [
       "[<matplotlib.lines.Line2D at 0x7f49be9086d8>]"
      ]
     },
     "execution_count": 6,
     "metadata": {},
     "output_type": "execute_result"
    },
    {
     "data": {
      "image/png": "[encoded data removed]",
      "text/plain": [
       "<Figure size 432x288 with 1 Axes>"
      ]
     },
     "metadata": {},
     "output_type": "display_data"
    }
   ],
   "source": [
    "k_temp = kyoto_1_all.drop(['userid'], axis=1)\n",
    "\n",
    "tsne = TSNE(perplexity =30, n_components=2, init='pca', n_iter=300)\n",
    "k_temp = tsne.fit_transform(k_temp)\n",
    "\n",
    "fig, axes = plt.subplots()\n",
    "axes.set_xlim([-1000, 1000])\n",
    "axes.set_ylim([-500, 500])\n",
    "axes.set_title('Data Distribution in t-SNE before noise injection')\n",
    "axes.plot(k_temp[:,0], k_temp[:,1], '.')\n"
   ]
  },
  {
   "cell_type": "code",
   "execution_count": 7,
   "metadata": {
    "scrolled": true
   },
   "outputs": [],
   "source": [
    "if noise_flag:\n",
    "    \n",
    "    k_temp = kyoto_1_all.drop(['userid'], axis=1)\n",
    "\n",
    "    noise1 = kyoto_1_all[list(k_temp)].mul(np.random.normal(1.0, 0.5, size=len(kyoto_1_all)), axis=0)\n",
    "    noise1 = noise1.join(kyoto_1_all['userid'].to_frame())\n",
    "\n",
    "    #noise2 = kyoto_1_all[list(k_temp)].mul(np.random.normal(1.0, 0.5, size=len(kyoto_1_all)), axis=0)\n",
    "    #noise2 = noise2.join(kyoto_1_all['userid'].to_frame())\n",
    "\n",
    "    kyoto_1_all = pd.concat([kyoto_1_all, noise1])\n",
    "    #kyoto_1_all = pd.concat([kyoto_1_all, noise2])\n",
    "\n",
    "    k_temp = kyoto_1_all.drop(['userid'], axis=1)\n",
    "    k_temp = tsne.fit_transform(k_temp)\n",
    "\n",
    "    fig, axes = plt.subplots()\n",
    "    axes.set_xlim([-1000, 1000])\n",
    "    axes.set_ylim([-500, 500])\n",
    "    axes.set_title('Data Distribution in t-SNE after noise injection')\n",
    "    axes.plot(k_temp[:,0], k_temp[:,1], '.')\n"
   ]
  },
  {
   "cell_type": "markdown",
   "metadata": {},
   "source": [
    "# Merge Datasets"
   ]
  },
  {
   "cell_type": "code",
   "execution_count": 8,
   "metadata": {},
   "outputs": [],
   "source": [
    "kyoto_x_all = pd.merge(kyoto_1_all, kyoto_1_score, on='userid')"
   ]
  },
  {
   "cell_type": "code",
   "execution_count": 9,
   "metadata": {
    "scrolled": false
   },
   "outputs": [],
   "source": [
    "kyoto_1 = kyoto_x_all\n",
    "kyoto_1.fillna(0.0, inplace=True)\n",
    "kyoto_1 = kyoto_1.drop(['userid'], axis=1)\n",
    "kyoto_1 = kyoto_1.drop(['Delete_Memo'], axis=1)\n",
    "\n",
    "'''\n",
    "kyoto_1 = kyoto_1.drop(['PREV'], axis=1)\n",
    "kyoto_1 = kyoto_1.drop(['NEXT'], axis=1)\n",
    "kyoto_1 = kyoto_1.drop(['Readtime(seconds)'], axis=1)\n",
    "kyoto_1 = kyoto_1.drop(['pcc'], axis=1)\n",
    "kyoto_1 = kyoto_1.drop(['tabletc'], axis=1)\n",
    "kyoto_1 = kyoto_1.drop(['LINK_CLICK'], axis=1)\n",
    "kyoto_1 = kyoto_1.drop(['SEARCH_JUMP'], axis=1)\n",
    "kyoto_1 = kyoto_1.drop(['memoc'], axis=1)\n",
    "kyoto_1 = kyoto_1.drop(['Add_BookmarkC'], axis=1)\n",
    "kyoto_1 = kyoto_1.drop(['Delete_BookmarkC'], axis=1)\n",
    "kyoto_1 = kyoto_1.drop(['Add_MemoC'], axis=1)\n",
    "kyoto_1 = kyoto_1.drop(['Delete_MemoC'], axis=1)\n",
    "kyoto_1 = kyoto_1.drop(['Change_MemoC'], axis=1)\n",
    "kyoto_1 = kyoto_1.drop(['Add_MarkerC'], axis=1)\n",
    "kyoto_1 = kyoto_1.drop(['Delete_MarkerC'], axis=1)\n",
    "kyoto_1 = kyoto_1.drop(['bookmarkc'], axis=1)\n",
    "kyoto_1 = kyoto_1.drop(['closec'], axis=1)\n",
    "kyoto_1 = kyoto_1.drop(['markerc'], axis=1)\n",
    "kyoto_1 = kyoto_1.drop(['SEARCH'], axis=1)\n",
    "kyoto_1 = kyoto_1.drop(['mobilec'], axis=1)\n",
    "kyoto_1 = kyoto_1.drop(['JUMPC'], axis=1)\n",
    "'''\n",
    "\n",
    "kyoto_1 = kyoto_1[kyoto_1['score']>0]\n",
    "#list(kyoto_1)[11]\n",
    "\n",
    "#kyoto_1 = kyoto_1.drop([list(kyoto_1)[14]], axis=1)"
   ]
  },
  {
   "cell_type": "markdown",
   "metadata": {},
   "source": [
    "# Preprocess"
   ]
  },
  {
   "cell_type": "code",
   "execution_count": 10,
   "metadata": {
    "scrolled": false
   },
   "outputs": [],
   "source": [
    "\n",
    "#outlier = 3\n",
    "#kyoto_1 = kyoto_1[np.abs(kyoto_1.pcc-kyoto_1.pcc.mean()) <= (outlier * kyoto_1.pcc.std())]\n",
    "#kyoto_1 = kyoto_1[np.abs(kyoto_1.tabletc-kyoto_1.tabletc.mean()) <= (outlier * kyoto_1.tabletc.std())]\n",
    "#kyoto_1 = kyoto_1 * 10\n",
    "#kyoto_1 = np.log(kyoto_1)\n",
    "#kyoto_1.fillna(0.0, inplace=True)\n",
    "#kyoto_1 = (kyoto_1 - kyoto_1.mean()) / (kyoto_1.max() - kyoto_1.min()) * 10\n",
    "#kyoto_1.fillna(0.0, inplace=True)\n",
    "\n",
    "#kyoto_1\n",
    "#kyoto_1.plot.box(sym='r+')"
   ]
  },
  {
   "cell_type": "code",
   "execution_count": 11,
   "metadata": {
    "scrolled": true
   },
   "outputs": [],
   "source": [
    "\n",
    "kyoto_y = kyoto_1['score']\n",
    "kyoto_x = kyoto_1.drop(['score'], axis=1)"
   ]
  },
  {
   "cell_type": "markdown",
   "metadata": {},
   "source": [
    "# Add noise"
   ]
  },
  {
   "cell_type": "code",
   "execution_count": 12,
   "metadata": {
    "scrolled": true
   },
   "outputs": [],
   "source": [
    "#kyoto_x * np.random.normal(1.0, sd, size=len(kyoto_x))\n",
    "#kyoto_x = pd.concat([kyoto_x, kyoto_x.mul(np.random.normal(1.0, 0.5, size=len(kyoto_x)), axis=0)])\n",
    "#kyoto_x = pd.concat([kyoto_x, kyoto_x.mul(np.random.normal(1.0, 0.5, size=len(kyoto_x)), axis=0)])\n",
    "#kyoto_y = pd.concat([kyoto_y, kyoto_x.mul(np.random.normal(1.0, 0.5, size=len(kyoto_y)), axis=0)])\n",
    "#kyoto_y = pd.concat([kyoto_y, kyoto_x.mul(np.random.normal(1.0, 0.5, size=len(kyoto_y)), axis=0)])"
   ]
  },
  {
   "cell_type": "markdown",
   "metadata": {},
   "source": [
    "# Model Specification and Evaluation Funcation"
   ]
  },
  {
   "cell_type": "code",
   "execution_count": 13,
   "metadata": {},
   "outputs": [],
   "source": [
    "xgb2 = XGBRegressor(n_estimators=20000, \n",
    "                    learning_rate=0.01, \n",
    "                    gamma=0.1, \n",
    "                    subsample=0.9,\n",
    "                    colsample_bytree=0.9, \n",
    "                    max_depth=3)"
   ]
  },
  {
   "cell_type": "code",
   "execution_count": 14,
   "metadata": {},
   "outputs": [],
   "source": [
    "def xgb_modelfit(alg, X_train, y_train, useTrainCV=True, cv_folds=5, early_stopping_rounds=50):\n",
    "    \n",
    "    if useTrainCV:\n",
    "        xgb_param = alg.get_xgb_params()\n",
    "        xgtrain = xgb.DMatrix(X_train, label=y_train)\n",
    "        cvresult = xgb.cv(xgb_param, \n",
    "                          xgtrain, \n",
    "                          num_boost_round=alg.get_params()['n_estimators'], \n",
    "                          nfold=cv_folds,\n",
    "                          metrics='mae', \n",
    "                          early_stopping_rounds=early_stopping_rounds)\n",
    "        alg.set_params(n_estimators=cvresult.shape[0])\n",
    "    \n",
    "    #Fit the algorithm on the data\n",
    "    alg.fit(X_train, y_train, eval_metric='mae')\n",
    "        \n",
    "    return alg"
   ]
  },
  {
   "cell_type": "code",
   "execution_count": 15,
   "metadata": {},
   "outputs": [],
   "source": [
    "def svr_modelfitting(x_train, y_train):\n",
    "    \"\"\"Computes MSE of an SVR with RBF kernel and optimized hyperparameters.\"\"\"\n",
    "    \n",
    "    # define objective function for tuning\n",
    "    @optunity.cross_validated(x=x_train, y=y_train, num_iter=2, num_folds=5)\n",
    "    def tune_cv(x_train, y_train, C, degree, coef0):\n",
    "        model = sklearn.svm.SVR(C=C, degree=degree, coef0=coef0, kernel='poly').fit(x_train, y_train)\n",
    "        predictions = model.predict(x_train)\n",
    "        return optunity.metrics.mse(y_train, predictions)\n",
    "\n",
    "    # optimize parameters\n",
    "    optimal_pars, _, _ = optunity.minimize(tune_cv, \n",
    "                                           150, \n",
    "                                           C=[1000, 20000], \n",
    "                                           degree=[2, 5], \n",
    "                                           coef0=[0, 1])\n",
    "    #print(\"optimal hyperparameters: \" + str(optimal_pars))\n",
    "\n",
    "    tuned_model = sklearn.svm.SVR(kernel='poly', **optimal_pars).fit(x_train, y_train)\n",
    "\n",
    "    return tuned_model\n"
   ]
  },
  {
   "cell_type": "code",
   "execution_count": 16,
   "metadata": {},
   "outputs": [],
   "source": [
    "mlp = MLPRegressor(hidden_layer_sizes=(2,),\n",
    "                   activation='relu',\n",
    "                   solver='adam',\n",
    "                   learning_rate='adaptive',\n",
    "                   max_iter=20000,\n",
    "                   learning_rate_init=0.01,\n",
    "                   alpha=0.01)"
   ]
  },
  {
   "cell_type": "code",
   "execution_count": 17,
   "metadata": {},
   "outputs": [],
   "source": [
    "def knn_opt_model():\n",
    "    \n",
    "    def root_mean_squared_error(y_true, y_pred):\n",
    "        return backend.sqrt(backend.mean(backend.square(y_pred - y_true), axis=-1))\n",
    "    \n",
    "    # create model\n",
    "    model = Sequential()\n",
    "    model.add(GaussianNoise(stddev=0.1, input_shape=(14,)))\n",
    "    model.add(Dense(7, activation='relu'))\n",
    "    model.add(Dropout(0.5))\n",
    "    model.add(GaussianNoise(0.1))\n",
    "    model.add(Dense(14, activation='relu'))\n",
    "    model.add(Dropout(0.5))\n",
    "    model.add(Dense(1, kernel_initializer='normal'))\n",
    "    # Compile model\n",
    "    model.compile(loss=root_mean_squared_error, optimizer='adam')\n",
    "    #model.compile(loss='mse', optimizer='adam')\n",
    "    return model"
   ]
  },
  {
   "cell_type": "code",
   "execution_count": 18,
   "metadata": {},
   "outputs": [],
   "source": [
    "def knn_baseline_model():\n",
    "    \n",
    "    #def root_mean_squared_error(y_true, y_pred):\n",
    "    #    return backend.sqrt(backend.mean(backend.square(y_pred - y_true), axis=-1))\n",
    "    \n",
    "    # create model\n",
    "    model = Sequential()\n",
    "    #model.add(GaussianNoise(stddev=0.1, input_shape=(14,)))\n",
    "    model.add(Dense(7, activation='relu', input_shape=(14,)))\n",
    "    #model.add(Dropout(0.5))\n",
    "    #model.add(GaussianNoise(0.1))\n",
    "    #model.add(Dense(14, activation='relu'))\n",
    "    #model.add(Dropout(0.5))\n",
    "    model.add(Dense(1, kernel_initializer='normal'))\n",
    "    # Compile model\n",
    "    #model.compile(loss=root_mean_squared_error, optimizer='adam')\n",
    "    model.compile(loss='mse', optimizer='adam')\n",
    "    return model"
   ]
  },
  {
   "cell_type": "code",
   "execution_count": 19,
   "metadata": {},
   "outputs": [],
   "source": [
    "def mean_absolute_percentage_error(y_true, y_pred): \n",
    "    y_true, y_pred = np.array(y_true), np.array(y_pred)\n",
    "    return np.mean(np.abs((y_true - y_pred) / y_true)) * 100"
   ]
  },
  {
   "cell_type": "code",
   "execution_count": 20,
   "metadata": {},
   "outputs": [],
   "source": [
    "def REC(y_true , y_pred):\n",
    "    \n",
    "    Accuracy = []\n",
    "    Begin_Range = 0\n",
    "    End_Range = 1.5\n",
    "    Interval_Size = 0.01\n",
    "    \n",
    "    # List of epsilons\n",
    "    Epsilon = np.arange(Begin_Range , End_Range , Interval_Size)\n",
    "    \n",
    "    # Main Loops\n",
    "    for i in range(len(Epsilon)):\n",
    "        count = 0.0\n",
    "        for j in range(len(y_true)):\n",
    "            \n",
    "            y_true[j]\n",
    "            y_pred[j]\n",
    "            \n",
    "            np.linalg.norm(y_true[j] - y_pred[j])\n",
    "            np.sqrt( np.linalg.norm(y_true[j]) **2 + np.linalg.norm(y_pred[j])**2 ) < Epsilon[i]\n",
    "            \n",
    "            if np.linalg.norm(y_true[j] - y_pred[j]) / np.sqrt( np.linalg.norm(y_true[j]) **2 + np.linalg.norm(y_pred[j])**2 ) < Epsilon[i]:\n",
    "                count = count + 1\n",
    "        \n",
    "        Accuracy.append(count/len(y_true))\n",
    "    \n",
    "    # Calculating Area Under Curve using Simpson's rule\n",
    "    AUC = simps(Accuracy , Epsilon ) / End_Range\n",
    "        \n",
    "    # returning epsilon , accuracy , area under curve    \n",
    "    return Epsilon, Accuracy, AUC"
   ]
  },
  {
   "cell_type": "code",
   "execution_count": 21,
   "metadata": {},
   "outputs": [],
   "source": [
    "def model_evaluate (model, X_train, X_test, y_train, y_test):\n",
    "\n",
    "    y_pred = model.predict(X_test)\n",
    "    Deviation, Accuracy, auc = REC(y_test.values, y_pred)\n",
    "    rmse = sqrt(mean_squared_error(y_test, y_pred))\n",
    "    r2 = r2_score(y_test, y_pred)\n",
    "    mape = ((y_test - y_pred) / y_test).abs().mean()*100\n",
    "    \n",
    "    f_test = np.var(y_test) / np.var(y_pred)\n",
    "    df1 = len(y_test) - 1\n",
    "    df2 = len(y_pred) - 1\n",
    "    p_value = 1 - 2 * abs(0.5 - f.cdf(f_test, df1, df2))\n",
    "    \n",
    "    p_stars = ''\n",
    "    if p_value <= 0.05:\n",
    "        p_stars = '*'\n",
    "    if p_value <= 0.01:\n",
    "        p_stars = '**'\n",
    "    if p_value <= 0.001:\n",
    "        p_stars = '***'\n",
    "    #print(F, p_value)\n",
    "    \n",
    "    y_validate = model.predict(X_train)\n",
    "    training_loss = sqrt(mean_squared_error(y_train, y_validate))\n",
    "    \n",
    "    return_dict = {'rmse':rmse, \n",
    "                   'mape':mape, \n",
    "                   'r2':r2, \n",
    "                   'auc':auc,\n",
    "                   'training_loss':training_loss, \n",
    "                   'f_test':f_test,\n",
    "                   'p':p_stars,\n",
    "                   'y_pred':y_pred, \n",
    "                   'y_validate':y_validate}\n",
    "    \n",
    "    return return_dict\n",
    "    "
   ]
  },
  {
   "cell_type": "code",
   "execution_count": 22,
   "metadata": {},
   "outputs": [],
   "source": [
    "def pca_extraction (X_train, X_test):\n",
    "    pca = PCA(n_components=9)# adjust yourself\n",
    "    pca.fit(X_train)\n",
    "    X_pca_train = pca.transform(X_train)\n",
    "    X_pca_test = pca.transform(X_test)  \n",
    "    return X_pca_train, X_pca_test"
   ]
  },
  {
   "cell_type": "markdown",
   "metadata": {},
   "source": [
    "# Training and get Evaluator"
   ]
  },
  {
   "cell_type": "code",
   "execution_count": 23,
   "metadata": {
    "scrolled": false
   },
   "outputs": [
    {
     "name": "stdout",
     "output_type": "stream",
     "text": [
      "0\n",
      "1\n",
      "2\n",
      "3\n",
      "4\n",
      "5\n",
      "6\n",
      "7\n",
      "8\n",
      "9\n",
      "10\n",
      "11\n",
      "12\n",
      "13\n",
      "14\n",
      "15\n",
      "16\n",
      "17\n",
      "18\n",
      "19\n"
     ]
    }
   ],
   "source": [
    "mse_xgb_list = []\n",
    "mse_ols_list = []\n",
    "mse_svr_list = []\n",
    "mse_mlp_list = []\n",
    "mse_regr_list = []\n",
    "\n",
    "mape_xgb_list = []\n",
    "mape_regr_list = []\n",
    "mape_ols_list = []\n",
    "mape_svr_list = []\n",
    "mape_mlp_list = []\n",
    "\n",
    "r2_xgb_list = []\n",
    "r2_regr_list = []\n",
    "r2_ols_list = []\n",
    "r2_svr_list = []\n",
    "r2_mlp_list = []\n",
    "\n",
    "tl_svr_list = []\n",
    "tl_xgb_list = []\n",
    "tl_regr_list = []\n",
    "tl_ols_list = []\n",
    "tl_mlp_list = []\n",
    "\n",
    "auc_xgb_list = []\n",
    "auc_regr_list = []\n",
    "auc_ols_list = []\n",
    "auc_svr_list = []\n",
    "auc_mlp_list = []\n",
    "\n",
    "f2_xgb_list = []\n",
    "f2_regr_list = []\n",
    "f2_ols_list = []\n",
    "f2_svr_list = []\n",
    "f2_mlp_list = []\n",
    "\n",
    "pf2_xgb_list = []\n",
    "pf2_regr_list = []\n",
    "pf2_ols_list = []\n",
    "pf2_svr_list = []\n",
    "pf2_mlp_list = []\n",
    "\n",
    "for i in range(0, 20):\n",
    "    \n",
    "    print (i)\n",
    "    \n",
    "    X_train, X_test, y_train, y_test = train_test_split(kyoto_x, kyoto_y, test_size=0.3)\n",
    "    scale = StandardScaler()\n",
    "    X_train = scale.fit_transform(X_train)\n",
    "    X_test = scale.fit_transform(X_test)\n",
    "    \n",
    "    if (pca_flag):\n",
    "        X_train, X_test = pca_extraction (X_train, X_test)\n",
    "    \n",
    "    # XGBoost\n",
    "    xgb_model = xgb_modelfit(xgb2, X_train, y_train)\n",
    "    #xgb2.fit(X_train, y_train)\n",
    "    result_dict = model_evaluate (xgb_model, X_train, X_test, y_train, y_test)\n",
    "    auc_xgb_list.append(result_dict['auc'])\n",
    "    mse_xgb_list.append(result_dict['rmse'])\n",
    "    mape_xgb_list.append(result_dict['mape'])\n",
    "    r2_xgb_list.append(result_dict['r2'])\n",
    "    tl_xgb_list.append(result_dict['training_loss'])\n",
    "    f2_xgb_list.append(result_dict['f_test'])\n",
    "    pf2_xgb_list.append(result_dict['p'])\n",
    "    xgr_train_y = result_dict['y_validate']\n",
    "    xgr_pred_y = result_dict['y_pred']\n",
    "    \n",
    "    # Random Forest Regressor\n",
    "    regr = RandomForestRegressor(max_depth=3, random_state=0)\n",
    "    regr_model = regr.fit(X_train, y_train)\n",
    "    result_dict = model_evaluate (regr_model, X_train, X_test, y_train, y_test)\n",
    "    auc_regr_list.append(result_dict['auc'])\n",
    "    mse_regr_list.append(result_dict['rmse'])\n",
    "    mape_regr_list.append(result_dict['mape'])\n",
    "    r2_regr_list.append(result_dict['r2'])\n",
    "    tl_regr_list.append(result_dict['training_loss'])\n",
    "    f2_regr_list.append(result_dict['f_test'])\n",
    "    pf2_regr_list.append(result_dict['p'])\n",
    "    regr_train_y = result_dict['y_validate']\n",
    "    regr_pred_y = result_dict['y_pred']\n",
    "    \n",
    "    # mutiple linear regression\n",
    "    ols_model = sm.OLS(endog=y_train, exog=X_train)\n",
    "    ols_model = ols_model.fit()\n",
    "    result_dict = model_evaluate (ols_model, X_train, X_test, y_train, y_test)\n",
    "    auc_ols_list.append(result_dict['auc'])\n",
    "    mse_ols_list.append(result_dict['rmse'])\n",
    "    mape_ols_list.append(result_dict['mape'])\n",
    "    r2_ols_list.append(result_dict['r2'])\n",
    "    tl_ols_list.append(result_dict['training_loss'])\n",
    "    f2_ols_list.append(result_dict['f_test'])\n",
    "    pf2_ols_list.append(result_dict['p'])\n",
    "    ols_train_y = result_dict['y_validate']\n",
    "    ols_pred_y = result_dict['y_pred']\n",
    "    \n",
    "    # support vector regression\n",
    "    #clf = SVR(C=1.0, epsilon=0.2)\n",
    "    clf = SVR()\n",
    "    #svr_model = svr_modelfitting(X_train, y_train)\n",
    "    svr_model = clf.fit(X_train, y_train) \n",
    "    result_dict = model_evaluate (svr_model, X_train, X_test, y_train, y_test)\n",
    "    auc_svr_list.append(result_dict['auc'])\n",
    "    mse_svr_list.append(result_dict['rmse'])\n",
    "    mape_svr_list.append(result_dict['mape'])\n",
    "    r2_svr_list.append(result_dict['r2'])\n",
    "    tl_svr_list.append(result_dict['training_loss'])\n",
    "    f2_svr_list.append(result_dict['f_test'])\n",
    "    pf2_svr_list.append(result_dict['p'])\n",
    "    svr_train_y = result_dict['y_validate']\n",
    "    svr_pred_y = result_dict['y_pred']\n",
    "    \n",
    "    # ANN\n",
    "    mlp = KerasRegressor(build_fn=knn_baseline_model, epochs=500, batch_size=10, verbose=0)\n",
    "    mlp.fit(X_train, y_train)\n",
    "    result_dict = model_evaluate (mlp, X_train, X_test, y_train, y_test)\n",
    "    auc_mlp_list.append(result_dict['auc'])\n",
    "    mse_mlp_list.append(result_dict['rmse'])\n",
    "    mape_mlp_list.append(result_dict['mape'])\n",
    "    r2_mlp_list.append(result_dict['r2'])\n",
    "    tl_mlp_list.append(result_dict['training_loss'])\n",
    "    f2_mlp_list.append(result_dict['f_test'])\n",
    "    pf2_mlp_list.append(result_dict['p'])\n",
    "    mlp_pred_y = result_dict['y_pred']\n",
    "    mlp_train_y = result_dict['y_validate']\n",
    "    vizu.plot_model(mlp.model, \"keras_baseline_model.png\", show_layer_names=True, show_shapes=True)\n",
    "    \n",
    "    # keras NN\n",
    "    '''\n",
    "    knn = KerasRegressor(build_fn=knn_opt_model, epochs=1000, batch_size=1, verbose=0)\n",
    "    knn.fit(X_train, y_train)\n",
    "    knn_pred_y = knn.predict(X_test)\n",
    "    Deviation, Accuracy, AUC = REC(y_test.values, knn_pred_y)\n",
    "    auc_knn_list.append(AUC)\n",
    "    mse_knn_list.append(sqrt(mean_squared_error(y_test, knn_pred_y)))\n",
    "    mape_knn_list.append(((y_test - knn_pred_y) / y_test).abs().mean()*100)\n",
    "    r2_knn_list.append(r2_score(y_test, knn_pred_y))\n",
    "    knn_train_y = knn.predict(X_train)\n",
    "    tl_knn_list.append(sqrt(mean_squared_error(y_train, knn_train_y)))\n",
    "    vizu.plot_model(knn.model, \"keras_model.png\", show_layer_names=True, show_shapes=True)\n",
    "    '''\n"
   ]
  },
  {
   "cell_type": "markdown",
   "metadata": {},
   "source": [
    "# Boxplot"
   ]
  },
  {
   "cell_type": "code",
   "execution_count": 24,
   "metadata": {
    "scrolled": false
   },
   "outputs": [
    {
     "data": {
      "text/plain": [
       "[Text(0,0,'MLR'),\n",
       " Text(0,0,'CART'),\n",
       " Text(0,0,'SVR'),\n",
       " Text(0,0,'XGBoost'),\n",
       " Text(0,0,'ANN')]"
      ]
     },
     "execution_count": 24,
     "metadata": {},
     "output_type": "execute_result"
    },
    {
     "data": {
      "image/png": "[encoded data removed]",
      "text/plain": [
       "<Figure size 1296x576 with 1 Axes>"
      ]
     },
     "metadata": {},
     "output_type": "display_data"
    }
   ],
   "source": [
    "matplotlib.rcParams.update({'font.size': 18})\n",
    "\n",
    "fig1, ax1 = plt.subplots(figsize=(18, 8))\n",
    "ax1.set_title('RMSE')\n",
    "box_data = [mse_ols_list, \n",
    "            mse_regr_list,\n",
    "            mse_svr_list, \n",
    "            mse_xgb_list,\n",
    "            mse_mlp_list]\n",
    "\n",
    "#ax1.set_yscale('log')\n",
    "ax1.boxplot(box_data)\n",
    "ax1.set_ylim([10, 100])\n",
    "ax1.set_xticklabels(['MLR',\n",
    "                     'CART', \n",
    "                     'SVR', \n",
    "                     'XGBoost', \n",
    "                     'ANN'], rotation=45)"
   ]
  },
  {
   "cell_type": "code",
   "execution_count": 25,
   "metadata": {},
   "outputs": [
    {
     "name": "stdout",
     "output_type": "stream",
     "text": [
      "MSE Mutiple Linear Regression: 80.07\n",
      "MSE Random Forest Regression: 32.37\n",
      "MSE Support Vector Regression: 22.85\n",
      "MSE Extreme Gradient Boosting: 33.99\n",
      "MSE Artificial Neural Network: 38.70\n"
     ]
    }
   ],
   "source": [
    "print ('MSE Mutiple Linear Regression:', '{:.2f}'.format(sum(mse_ols_list) / len(mse_ols_list)))\n",
    "print ('MSE Random Forest Regression:', '{:.2f}'.format(sum(mse_regr_list) / len(mse_regr_list)))\n",
    "print ('MSE Support Vector Regression:', '{:.2f}'.format(sum(mse_svr_list) / len(mse_svr_list)))\n",
    "print ('MSE Extreme Gradient Boosting:', '{:.2f}'.format(sum(mse_xgb_list) / len(mse_xgb_list)))\n",
    "print ('MSE Artificial Neural Network:', '{:.2f}'.format(sum(mse_mlp_list) / len(mse_mlp_list)))\n",
    "#print ('MSE Keras Neural Network:', '{:.2f}'.format(sum(mse_knn_list) / len(mse_knn_list)))\n"
   ]
  },
  {
   "cell_type": "code",
   "execution_count": 26,
   "metadata": {},
   "outputs": [
    {
     "name": "stdout",
     "output_type": "stream",
     "text": [
      "MAPE Mutiple Linear Regression: 101.40\n",
      "MAPE Random Forest Regression: 39.73\n",
      "MAPE Support Vector Regression: 31.22\n",
      "MAPE Extreme Gradient Boosting: 42.76\n",
      "MAPE Artificial Neural Network: 41.94\n"
     ]
    }
   ],
   "source": [
    "print ('MAPE Mutiple Linear Regression:', '{:.2f}'.format(sum(mape_ols_list) / len(mape_ols_list)))\n",
    "print ('MAPE Random Forest Regression:', '{:.2f}'.format(sum(mape_regr_list) / len(mape_regr_list)))\n",
    "print ('MAPE Support Vector Regression:', '{:.2f}'.format(sum(mape_svr_list) / len(mape_svr_list)))\n",
    "print ('MAPE Extreme Gradient Boosting:', '{:.2f}'.format(sum(mape_xgb_list) / len(mape_xgb_list)))\n",
    "print ('MAPE Artificial Neural Network:', '{:.2f}'.format(sum(mape_mlp_list) / len(mape_mlp_list)))\n",
    "#print ('MAPE Keras Neural Network:', '{:.2f}'.format(sum(mape_knn_list) / len(mape_knn_list)))\n"
   ]
  },
  {
   "cell_type": "code",
   "execution_count": 27,
   "metadata": {
    "scrolled": true
   },
   "outputs": [
    {
     "name": "stdout",
     "output_type": "stream",
     "text": [
      "R2 Mutiple Linear Regression: -14.77\n",
      "R2 Random Forest Regression: -1.48\n",
      "R2 Support Vector Regression: -0.24\n",
      "R2 Extreme Gradient Boosting: -1.74\n",
      "R2 Artificial Neural Network: -2.58\n"
     ]
    }
   ],
   "source": [
    "print ('R2 Mutiple Linear Regression:', '{:.2f}'.format(sum(r2_ols_list) / len(r2_ols_list)))\n",
    "print ('R2 Random Forest Regression:', '{:.2f}'.format(sum(r2_regr_list) / len(r2_regr_list)))\n",
    "print ('R2 Support Vector Regression:', '{:.2f}'.format(sum(r2_svr_list) / len(r2_svr_list)))\n",
    "print ('R2 Extreme Gradient Boosting:', '{:.2f}'.format(sum(r2_xgb_list) / len(r2_xgb_list)))\n",
    "print ('R2 Artificial Neural Network:', '{:.2f}'.format(sum(r2_mlp_list) / len(r2_mlp_list)))\n",
    "#print ('R2 Keras Neural Network:', '{:.2f}'.format(sum(r2_knn_list) / len(r2_knn_list)))\n"
   ]
  },
  {
   "cell_type": "code",
   "execution_count": 28,
   "metadata": {},
   "outputs": [
    {
     "name": "stdout",
     "output_type": "stream",
     "text": [
      "Training Loss Mutiple Linear Regression: 83.14\n",
      "Training Loss Random Forest Regression: 15.95\n",
      "Training Loss Support Vector Regression: 23.99\n",
      "Training Loss Extreme Gradient Boosting: 7.39\n",
      "Training Loss Artificial Neural Network: 24.56\n"
     ]
    }
   ],
   "source": [
    "print ('Training Loss Mutiple Linear Regression:', '{:.2f}'.format(sum(tl_ols_list) / len(tl_ols_list)))\n",
    "print ('Training Loss Random Forest Regression:', '{:.2f}'.format(sum(tl_regr_list) / len(tl_regr_list)))\n",
    "print ('Training Loss Support Vector Regression:', '{:.2f}'.format(sum(tl_svr_list) / len(tl_svr_list)))\n",
    "print ('Training Loss Extreme Gradient Boosting:', '{:.2f}'.format(sum(tl_xgb_list) / len(tl_xgb_list)))\n",
    "print ('Training Loss Artificial Neural Network:', '{:.2f}'.format(sum(tl_mlp_list) / len(tl_mlp_list)))\n",
    "#print ('Training Loss Keras Neural Network:', '{:.2f}'.format(sum(tl_knn_list) / len(tl_knn_list)))\n"
   ]
  },
  {
   "cell_type": "code",
   "execution_count": 29,
   "metadata": {},
   "outputs": [
    {
     "name": "stdout",
     "output_type": "stream",
     "text": [
      "AUC Mutiple Linear Regression: 0.33\n",
      "AUC Random Forest Regression: 0.81\n",
      "AUC Support Vector Regression: 0.88\n",
      "AUC Extreme Gradient Boosting: 0.81\n",
      "AUC Artificial Neural Network: 0.81\n"
     ]
    }
   ],
   "source": [
    "print ('AUC Mutiple Linear Regression:', '{:.2f}'.format(sum(auc_ols_list) / len(auc_ols_list)))\n",
    "print ('AUC Random Forest Regression:', '{:.2f}'.format(sum(auc_regr_list) / len(auc_regr_list)))\n",
    "print ('AUC Support Vector Regression:', '{:.2f}'.format(sum(auc_svr_list) / len(auc_svr_list)))\n",
    "print ('AUC Extreme Gradient Boosting:', '{:.2f}'.format(sum(auc_xgb_list) / len(auc_xgb_list)))\n",
    "print ('AUC Artificial Neural Network:', '{:.2f}'.format(sum(auc_mlp_list) / len(auc_mlp_list)))\n",
    "#print ('AUC Keras Neural Network:', '{:.2f}'.format(sum(auc_knn_list) / len(auc_knn_list)))\n"
   ]
  },
  {
   "cell_type": "code",
   "execution_count": 30,
   "metadata": {},
   "outputs": [
    {
     "name": "stdout",
     "output_type": "stream",
     "text": [
      "F2 Mutiple Linear Regression: 4.02 ['', '**', '**', '**', '**', '**', '**', '**', '**', '**', '**', '**', '**', '**', '**', '**', '**', '**', '**', '**']\n",
      "F2 Random Forest Regression: 1.17 ['', '', '', '', '', '', '', '', '', '', '', '', '', '', '', '', '', '', '', '']\n",
      "F2 Support Vector Regression: 1390.80 ['***', '***', '***', '***', '***', '***', '***', '***', '***', '***', '***', '***', '***', '***', '***', '***', '***', '***', '***', '***']\n",
      "F2 Extreme Gradient Boosting: 0.99 ['', '', '', '', '', '', '', '', '', '', '', '', '', '', '', '', '', '', '', '']\n",
      "F2 Artificial Neural Network: 0.40 ['', '', '', '', '', '', '', '', '', '', '', '', '', '', '', '', '', '', '', '']\n"
     ]
    }
   ],
   "source": [
    "print ('F2 Mutiple Linear Regression:', '{:.2f}'.format(sum(f2_ols_list) / len(f2_ols_list)), pf2_ols_list)\n",
    "print ('F2 Random Forest Regression:', '{:.2f}'.format(sum(f2_regr_list) / len(f2_regr_list)), pf2_regr_list)\n",
    "print ('F2 Support Vector Regression:', '{:.2f}'.format(sum(f2_svr_list) / len(f2_svr_list)), pf2_svr_list)\n",
    "print ('F2 Extreme Gradient Boosting:', '{:.2f}'.format(sum(f2_xgb_list) / len(f2_xgb_list)), pf2_xgb_list)\n",
    "print ('F2 Artificial Neural Network:', '{:.2f}'.format(sum(f2_mlp_list) / len(f2_mlp_list)), pf2_mlp_list)\n",
    "#print ('AUC Keras Neural Network:', '{:.2f}'.format(sum(auc_knn_list) / len(auc_knn_list)))"
   ]
  },
  {
   "cell_type": "code",
   "execution_count": 31,
   "metadata": {},
   "outputs": [
    {
     "data": {
      "image/png": "[encoded data removed]",
      "text/plain": [
       "<Figure size 1008x504 with 5 Axes>"
      ]
     },
     "metadata": {},
     "output_type": "display_data"
    }
   ],
   "source": [
    "matplotlib.rcParams.update({'font.size': 12})\n",
    "\n",
    "plt.figure(figsize=(14, 7))\n",
    "plt.subplots_adjust(hspace=0.4, wspace=0.4)\n",
    "\n",
    "label = ['Validation', 'Testing']\n",
    "\n",
    "plt.subplot(2, 3, 1)\n",
    "plt.plot(y_train.values, ols_train_y, '.',\n",
    "         y_test.values, ols_pred_y, '*')\n",
    "plt.title('MLR')\n",
    "plt.xlabel('Real Data (Score)')\n",
    "plt.ylabel('Prediction Result (Score)')\n",
    "plt.xlim(0, 100)\n",
    "plt.ylim(0, 100)\n",
    "plt.legend(['Training', 'Prediction'])\n",
    "\n",
    "plt.subplot(2, 3, 2)\n",
    "plt.plot(y_train, regr_train_y, '.',\n",
    "         y_test, regr_pred_y, '*')\n",
    "plt.title('CART')\n",
    "plt.xlabel('Real Data (Score)')\n",
    "#plt.ylabel('Observation')\n",
    "plt.xlim(0, 100)\n",
    "plt.ylim(0, 100)\n",
    "plt.legend(['Training', 'Prediction'])\n",
    "\n",
    "plt.subplot(2, 3, 3)\n",
    "plt.plot(y_train, svr_train_y, '.',\n",
    "         y_test, svr_pred_y, '*')\n",
    "plt.title('SVR')\n",
    "plt.xlabel('Real Data (Score)')\n",
    "#plt.ylabel('Observation')\n",
    "plt.xlim(0, 100)\n",
    "plt.ylim(0, 100)\n",
    "plt.legend(['Training', 'Prediction'])\n",
    "\n",
    "plt.subplot(2, 3, 4)\n",
    "plt.plot(y_train, xgr_train_y, '.',\n",
    "         y_test, xgr_pred_y, '*')\n",
    "plt.title('XGBoost')\n",
    "plt.xlabel('Real Data (Score)')\n",
    "plt.ylabel('Prediction Result (Score)')\n",
    "plt.xlim(0, 100)\n",
    "plt.ylim(0, 100)\n",
    "plt.legend(['Training', 'Prediction'])\n",
    "\n",
    "plt.subplot(2, 3, 5)\n",
    "plt.plot(y_train, mlp_train_y, '.',\n",
    "         y_test, mlp_pred_y, '*',)\n",
    "plt.title('ANN')\n",
    "plt.xlabel('Real Data (Score)')\n",
    "#plt.ylabel('Observation')\n",
    "plt.xlim(0, 100)\n",
    "plt.ylim(0, 100)\n",
    "plt.legend(['Training', 'Prediction'])\n",
    "\n",
    "plt.show()"
   ]
  },
  {
   "cell_type": "code",
   "execution_count": null,
   "metadata": {},
   "outputs": [],
   "source": []
  }
 ],
 "metadata": {
  "kernelspec": {
   "display_name": "Python 3",
   "language": "python",
   "name": "python3"
  },
  "language_info": {
   "codemirror_mode": {
    "name": "ipython",
    "version": 3
   },
   "file_extension": ".py",
   "mimetype": "text/x-python",
   "name": "python",
   "nbconvert_exporter": "python",
   "pygments_lexer": "ipython3",
   "version": "3.4.3"
  }
 },
 "nbformat": 4,
 "nbformat_minor": 2
}
